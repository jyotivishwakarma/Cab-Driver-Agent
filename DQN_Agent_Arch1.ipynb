{
 "cells": [
  {
   "cell_type": "markdown",
   "metadata": {},
   "source": [
    "### Cab-Driver Agent\n",
    "            \n",
    " - Group Members : Praveen yethapu\n",
    "                  Jyoti Vishwakarma"
   ]
  },
  {
   "cell_type": "code",
   "execution_count": 1,
   "metadata": {},
   "outputs": [
    {
     "name": "stderr",
     "output_type": "stream",
     "text": [
      "Using TensorFlow backend.\n"
     ]
    }
   ],
   "source": [
    "# Importing libraries\n",
    "import numpy as np\n",
    "import random\n",
    "import math\n",
    "from collections import deque\n",
    "import collections\n",
    "import pickle\n",
    "import time\n",
    "# for building DQN model\n",
    "from keras import layers\n",
    "from keras import Sequential\n",
    "from keras.layers import Dense, Activation, Flatten\n",
    "from keras.optimizers import Adam\n",
    "\n",
    "# for plotting graphs\n",
    "import matplotlib.pyplot as plt\n",
    "\n",
    "# Import the environment\n",
    "from Env import CabDriver"
   ]
  },
  {
   "cell_type": "markdown",
   "metadata": {},
   "source": [
    "#### Defining Time Matrix"
   ]
  },
  {
   "cell_type": "code",
   "execution_count": 2,
   "metadata": {},
   "outputs": [],
   "source": [
    "# Loading the time matrix provided\n",
    "Time_matrix = np.load(\"TM.npy\")"
   ]
  },
  {
   "cell_type": "markdown",
   "metadata": {},
   "source": [
    "#### Tracking the state-action pairs for checking convergence\n"
   ]
  },
  {
   "cell_type": "code",
   "execution_count": 3,
   "metadata": {},
   "outputs": [],
   "source": [
    "States_track =collections.defaultdict(dict)\n",
    "sample_Qstate_Qvalues = [((0,0,0),(0,1)),\n",
    "                          ((0,0,0),(0,2)),\n",
    "                           ((0,0,0),(0,3)),\n",
    "                            ((0,0,0),(0,4)),\n",
    "                            ((0,0,0),(1,0)),\n",
    "                            ((0,0,0),(1,2)),\n",
    "                            ((0,0,0),(1,3)),\n",
    "                            ((0,0,0),(1,4))] \n",
    "def initialise_tracking_states():\n",
    "    for q_values in sample_Qstate_Qvalues:\n",
    "        States_track[q_values[0]][q_values[1]] = [] "
   ]
  },
  {
   "cell_type": "code",
   "execution_count": 4,
   "metadata": {},
   "outputs": [
    {
     "name": "stdout",
     "output_type": "stream",
     "text": [
      "(0, 0, 0)\n"
     ]
    },
    {
     "data": {
      "text/plain": [
       "defaultdict(dict,\n",
       "            {(0, 0, 0): {(0, 1): [],\n",
       "              (0, 2): [],\n",
       "              (0, 3): [],\n",
       "              (0, 4): [],\n",
       "              (1, 0): [],\n",
       "              (1, 2): [],\n",
       "              (1, 3): [],\n",
       "              (1, 4): []}})"
      ]
     },
     "execution_count": 4,
     "metadata": {},
     "output_type": "execute_result"
    }
   ],
   "source": [
    "initialise_tracking_states()\n",
    "print(sample_Qstate_Qvalues[0][0])\n",
    "#States_track[(0,5,0)][(0,1)]\n",
    "States_track"
   ]
  },
  {
   "cell_type": "code",
   "execution_count": 5,
   "metadata": {},
   "outputs": [],
   "source": [
    "#Defining a function to save the Q-dictionary as a pickle file\n",
    "def save_obj(obj, name ):\n",
    "    with open(name + '.pkl', 'wb') as f:\n",
    "        pickle.dump(obj, f, pickle.HIGHEST_PROTOCOL)"
   ]
  },
  {
   "cell_type": "markdown",
   "metadata": {},
   "source": [
    "### Agent Class\n",
    "\n",
    "If you are using this framework, you need to fill the following to complete the following code block:\n",
    "1. State and Action Size\n",
    "2. Hyperparameters\n",
    "3. Create a neural-network model in function 'build_model()'\n",
    "4. Define epsilon-greedy strategy in function 'get_action()'\n",
    "5. Complete the function 'append_sample()'. This function appends the recent experience tuple <state, action, reward, new-state> to the memory\n",
    "6. Complete the 'train_model()' function with following logic:\n",
    "   - If the memory size is greater than mini-batch size, you randomly sample experiences from memory as per the mini-batch size and do the following:\n",
    "      - Initialise your input and output batch for training the model\n",
    "      - Calculate the target Q value for each sample: reward + gamma*max(Q(s'a,))\n",
    "      - Get Q(s', a) values from the last trained model\n",
    "      - Update the input batch as your encoded state and output batch as your Q-values\n",
    "      - Then fit your DQN model using the updated input and output batch."
   ]
  },
  {
   "cell_type": "code",
   "execution_count": 6,
   "metadata": {},
   "outputs": [],
   "source": [
    "class DQNAgent:\n",
    "    def __init__(self, state_size, action_size):\n",
    "        # Define size of state and action\n",
    "        self.state_size = state_size\n",
    "        self.action_size = action_size\n",
    "\n",
    "        # Write here: Specify you hyper parameters for the DQN\n",
    "        self.discount_factor = 0.85\n",
    "        self.learning_rate =  0.01      \n",
    "        self.epsilon = 1\n",
    "        self.epsilon_max = 1\n",
    "        #self.epsilon_decay = 0.99995 # For 100000 episodes\n",
    "        #self.epsilon_decay = 0.9997  # For 25000 episodes\n",
    "        self.epsilon_decay = 0.9995 # For 10000 episodes\n",
    "        #self.epsilon_decay = 0.995 # For 1000 episodes\n",
    "        self.epsilon_min = 0.001\n",
    "        \n",
    "        self.batch_size = 32        \n",
    "        # create replay memory using deque\n",
    "        self.memory = deque(maxlen=2000)\n",
    "\n",
    "        # create main model and target model\n",
    "        self.model = self.build_model()\n",
    "\n",
    "    # approximate Q function using Neural Network\n",
    "    def build_model(self):\n",
    "        model = Sequential()\n",
    "        # Write your code here: Add layers to your neural nets       \n",
    "        # hidden layers\n",
    "        model.add(Dense(32, input_dim=self.state_size, activation='relu', kernel_initializer='he_uniform'))\n",
    "        model.add(Dense(32, activation='relu', kernel_initializer='he_uniform'))\n",
    "\n",
    "        # the output layer: output is of size num_actions\n",
    "        model.add(Dense(self.action_size, activation='relu', kernel_initializer='he_uniform'))\n",
    "        \n",
    "        model.compile(loss='mse',optimizer=Adam(lr=self.learning_rate))\n",
    "        model.summary\n",
    "        \n",
    "        #Load the model from the existing saved model if exist:\n",
    "        '''\n",
    "        from keras.models import load_model\n",
    "        model_file = './model_weights_dqn'\n",
    "        import os.path\n",
    "        if os.path.isfile(model_file):\n",
    "            print('Loading the weights from h5 file ', model_file)\n",
    "            model = load_model(model_file)\n",
    "        '''\n",
    "        return model\n",
    "\n",
    "\n",
    "    def get_action(self, state, possible_actions_index):\n",
    "        \"\"\"\n",
    "        get action in a state according to an epsilon-greedy approach\n",
    "        possible_actions_index, actions are the 'ride requests' that teh driver got.\n",
    "        \"\"\"        \n",
    "        # get action from model using epsilon-greedy policy\n",
    "        # Decay in ε after each episode       \n",
    "        if np.random.rand() <= self.epsilon:\n",
    "            # explore: choose a random action from the ride requests\n",
    "            return random.choice(possible_actions_index)\n",
    "        else:\n",
    "            # choose the action with the highest q(s, a)\n",
    "            # the first index corresponds to the batch size, so\n",
    "            # reshape state to (1, state_size) so that the first index corresponds to the batch size\n",
    "            state = np.array(env.state_encod_arch1(state)).reshape(1, self.state_size)\n",
    "\n",
    "            # Use the model to predict the Q_values.\n",
    "            q_value = self.model.predict(state)\n",
    "\n",
    "            # consider only those actions that are part of the possible rides.\n",
    "            q_vals_possible = []\n",
    "            for i in possible_actions_index:\n",
    "                q_vals_possible.append(q_value[0][i])\n",
    "            return possible_actions_index[np.argmax(q_vals_possible)]\n",
    "        \n",
    "    def append_sample(self, state, action, reward, next_state,done):\n",
    "    # Write your code here:\n",
    "    # save sample <s,a,r,s'> to the replay memory\n",
    "        self.memory.append((state, action, reward, next_state, done))\n",
    "    \n",
    "    \n",
    "    \n",
    "    # pick samples randomly from replay memory (with batch_size) and train the network\n",
    "    def train_model(self,debug=False):\n",
    "        \n",
    "        if len(self.memory) > self.batch_size:\n",
    "            \n",
    "            # Sample batch from the memory\n",
    "            mini_batch = random.sample(self.memory, self.batch_size)\n",
    "            # initialise two matrices - update_input and update_output\n",
    "            update_input = np.zeros((self.batch_size, self.state_size))\n",
    "            update_output = np.zeros((self.batch_size, self.state_size))\n",
    "            actions, rewards, done = [], [], []\n",
    "\n",
    "            # populate update_input and update_output and the lists rewards, actions, done\n",
    "            for i in range(self.batch_size):\n",
    "                state, action, reward, next_state, done_boolean = mini_batch[i]\n",
    "                update_input[i] = env.state_encod_arch1(state)     \n",
    "                actions.append(action)\n",
    "                rewards.append(reward)\n",
    "                update_output[i] = env.state_encod_arch1(next_state)\n",
    "                done.append(done_boolean)\n",
    "\n",
    "            # predict the target q-values from states s\n",
    "            target = self.model.predict(update_input)\n",
    "            # target for q-network\n",
    "            target_qval = self.model.predict(update_output)\n",
    "\n",
    "\n",
    "            # update the target values\n",
    "            for i in range(self.batch_size):\n",
    "                if done[i]:\n",
    "                    target[i][actions[i]] = rewards[i]\n",
    "                else: # non-terminal state\n",
    "                    target[i][actions[i]] = rewards[i] + self.discount_factor * np.max(target_qval[i])\n",
    "            # model fit\n",
    "            self.model.fit(update_input, target, batch_size=self.batch_size, epochs=1, verbose=0)\n",
    "            \n",
    "    def save_tracking_states(self,debug=False):\n",
    "        # Use the model to predict the q_value of the state we are tacking.\n",
    "        state_onehot = env.state_encod_arch1([0,0,0])\n",
    "        state_onehot = np.array(state_onehot).reshape(1, self.state_size)\n",
    "        q_value = self.model.predict(state_onehot)\n",
    "        if debug:\n",
    "            print(q_value)\n",
    "        for i,each_action in enumerate(States_track[(0,0,0)]):\n",
    "            if debug:\n",
    "                print(q_value[0][i])\n",
    "            States_track[(0,0,0)][each_action].append(q_value[0][i])\n",
    "\n",
    "    def save(self, name):\n",
    "        self.model.save(name)\n",
    "        \n",
    "    def save_obj(self, obj , name ):\n",
    "        with open(name + '.pkl', 'wb') as f:\n",
    "            pickle.dump(obj, f, pickle.HIGHEST_PROTOCOL)"
   ]
  },
  {
   "cell_type": "markdown",
   "metadata": {},
   "source": [
    "#### Defining the variables required for the Deep Q-network"
   ]
  },
  {
   "cell_type": "code",
   "execution_count": 7,
   "metadata": {},
   "outputs": [],
   "source": [
    "\n",
    "Episodes = 10000\n",
    "m = 5 # number of cities, ranges from 1 ..... m\n",
    "t = 24 # number of hours, ranges from 0 .... t-1\n",
    "d = 7  # number of days, ranges from 0 ... d-1\n",
    "total_hrs = 30*24   #  Total no of hours for the Episode\n",
    "\n",
    "# Invoke Env class\n",
    "env = CabDriver()\n",
    "\n",
    "# to store rewards in each episode\n",
    "rewards_per_episode, episodes = [], []\n",
    "\n",
    "#Call the DQN agent\n",
    "agent = DQNAgent(state_size = m+t+d, action_size = len(env.action_space))\n",
    "max_reward = 0 # Just to check the max reward that is achieved on single Day:"
   ]
  },
  {
   "cell_type": "markdown",
   "metadata": {},
   "source": [
    "### DQN block"
   ]
  },
  {
   "cell_type": "code",
   "execution_count": 8,
   "metadata": {},
   "outputs": [
    {
     "name": "stdout",
     "output_type": "stream",
     "text": [
      "episode 0, reward -114.0, memory_length 138, epsilon 0.9995 total_time 723\n",
      "Time taken to run 0 episodes is : 1.4192659854888916\n",
      "Saving Model 0\n",
      "episode 200, reward 61.0, memory_length 2000, epsilon 0.9043623824454068 total_time 724\n",
      "Time taken to run 200 episodes is : 198.3440020084381\n",
      "episode 400, reward -23.0, memory_length 2000, epsilon 0.8182804590118382 total_time 730\n",
      "Time taken to run 400 episodes is : 397.396687746048\n",
      "episode 600, reward 325.0, memory_length 2000, epsilon 0.7403922615512425 total_time 727\n",
      "Time taken to run 600 episodes is : 538.5548393726349\n",
      "episode 800, reward 401.0, memory_length 2000, epsilon 0.6699178685348912 total_time 728\n",
      "Time taken to run 800 episodes is : 681.7753961086273\n",
      "episode 1000, reward 698.0, memory_length 2000, epsilon 0.606151595428677 total_time 728\n",
      "Time taken to run 1000 episodes is : 848.0886738300323\n",
      "Saving Model 1000\n",
      "episode 1200, reward 929.0, memory_length 2000, epsilon 0.5484549284291772 total_time 725\n",
      "Time taken to run 1200 episodes is : 993.6536977291107\n",
      "episode 1400, reward 669.0, memory_length 2000, epsilon 0.4962501308035369 total_time 732\n",
      "Time taken to run 1400 episodes is : 1135.5852274894714\n",
      "episode 1600, reward 855.0, memory_length 2000, epsilon 0.4490144578112366 total_time 729\n",
      "Time taken to run 1600 episodes is : 1294.91006731987\n",
      "episode 1800, reward 816.0, memory_length 2000, epsilon 0.40627492227974177 total_time 735\n",
      "Time taken to run 1800 episodes is : 1418.314398765564\n",
      "episode 2000, reward 770.0, memory_length 2000, epsilon 0.36760355841993914 total_time 728\n",
      "Time taken to run 2000 episodes is : 1539.8328969478607\n",
      "Saving Model 2000\n",
      "episode 2200, reward 961.0, memory_length 2000, epsilon 0.3326131364562932 total_time 733\n",
      "Time taken to run 2200 episodes is : 1659.259829044342\n",
      "episode 2400, reward 958.0, memory_length 2000, epsilon 0.30095328516083264 total_time 721\n",
      "Time taken to run 2400 episodes is : 1778.3823795318604\n",
      "episode 2600, reward 1097.0, memory_length 2000, epsilon 0.2723069834645546 total_time 722\n",
      "Time taken to run 2600 episodes is : 1897.4734859466553\n",
      "episode 2800, reward 1242.0, memory_length 2000, epsilon 0.24638738601553387 total_time 729\n",
      "Time taken to run 2800 episodes is : 2012.9951689243317\n",
      "episode 3000, reward 1182.0, memory_length 2000, epsilon 0.22293495089695248 total_time 732\n",
      "Time taken to run 3000 episodes is : 2130.277569770813\n",
      "Saving Model 3000\n",
      "episode 3200, reward 1395.0, memory_length 2000, epsilon 0.20171484074388943 total_time 729\n",
      "Time taken to run 3200 episodes is : 2262.2842111587524\n",
      "episode 3400, reward 1287.0, memory_length 2000, epsilon 0.1825145712353572 total_time 729\n",
      "Time taken to run 3400 episodes is : 2397.365347623825\n",
      "episode 3600, reward 1245.0, memory_length 2000, epsilon 0.16514188341511685 total_time 732\n",
      "Time taken to run 3600 episodes is : 2528.491505384445\n",
      "episode 3800, reward 1287.0, memory_length 2000, epsilon 0.14942281853608433 total_time 729\n",
      "Time taken to run 3800 episodes is : 2662.659781932831\n",
      "episode 4000, reward 1542.0, memory_length 2000, epsilon 0.1351999761510762 total_time 732\n",
      "Time taken to run 4000 episodes is : 2797.3519439697266\n",
      "Saving Model 4000\n",
      "episode 4200, reward 1473.0, memory_length 2000, epsilon 0.12233093800755339 total_time 726\n",
      "Time taken to run 4200 episodes is : 2932.8645775318146\n",
      "episode 4400, reward 1443.0, memory_length 2000, epsilon 0.11068684196427431 total_time 723\n",
      "Time taken to run 4400 episodes is : 3066.380147218704\n",
      "episode 4600, reward 1367.0, memory_length 2000, epsilon 0.10015109164999415 total_time 731\n",
      "Time taken to run 4600 episodes is : 3202.444760799408\n",
      "episode 4800, reward 1440.0, memory_length 2000, epsilon 0.09061818894356875 total_time 729\n",
      "Time taken to run 4800 episodes is : 3338.578957796097\n",
      "episode 5000, reward 1412.0, memory_length 2000, epsilon 0.08199267758468616 total_time 722\n",
      "Time taken to run 5000 episodes is : 3474.403737306595\n",
      "Saving Model 5000\n",
      "episode 5200, reward 1349.0, memory_length 2000, epsilon 0.07418818733723333 total_time 722\n",
      "Time taken to run 5200 episodes is : 3608.761947631836\n",
      "episode 5400, reward 1484.0, memory_length 2000, epsilon 0.06712656913417349 total_time 722\n",
      "Time taken to run 5400 episodes is : 3741.434947013855\n",
      "episode 5600, reward 1534.0, memory_length 2000, epsilon 0.06073711254383927 total_time 730\n",
      "Time taken to run 5600 episodes is : 3881.164811372757\n",
      "episode 5800, reward 1424.0, memory_length 2000, epsilon 0.054955837721862175 total_time 725\n",
      "Time taken to run 5800 episodes is : 4013.5385699272156\n",
      "episode 6000, reward 1460.0, memory_length 2000, epsilon 0.04972485475880578 total_time 725\n",
      "Time taken to run 6000 episodes is : 4132.26437664032\n",
      "Saving Model 6000\n",
      "episode 6200, reward 1578.0, memory_length 2000, epsilon 0.04499178400842957 total_time 732\n",
      "Time taken to run 6200 episodes is : 4249.7099866867065\n",
      "episode 6400, reward 1331.0, memory_length 2000, epsilon 0.04070923159212851 total_time 731\n",
      "Time taken to run 6400 episodes is : 4367.245526075363\n",
      "episode 6600, reward 1532.0, memory_length 2000, epsilon 0.0368343148275929 total_time 725\n",
      "Time taken to run 6600 episodes is : 4482.029461860657\n",
      "episode 6800, reward 1595.0, memory_length 2000, epsilon 0.03332823282964087 total_time 725\n",
      "Time taken to run 6800 episodes is : 4598.879581212997\n",
      "episode 7000, reward 1456.0, memory_length 2000, epsilon 0.030155877983500955 total_time 724\n",
      "Time taken to run 7000 episodes is : 4714.880134344101\n",
      "Saving Model 7000\n",
      "episode 7200, reward 1521.0, memory_length 2000, epsilon 0.027285484400091944 total_time 729\n",
      "Time taken to run 7200 episodes is : 4830.700181245804\n",
      "episode 7400, reward 1621.0, memory_length 2000, epsilon 0.02468830983316065 total_time 727\n",
      "Time taken to run 7400 episodes is : 4945.779784440994\n",
      "episode 7600, reward 1529.0, memory_length 2000, epsilon 0.022338347873204104 total_time 722\n",
      "Time taken to run 7600 episodes is : 5061.217445135117\n",
      "episode 7800, reward 1516.0, memory_length 2000, epsilon 0.020212067536273238 total_time 721\n",
      "Time taken to run 7800 episodes is : 5176.129508018494\n",
      "episode 8000, reward 1587.0, memory_length 2000, epsilon 0.018288177640071544 total_time 723\n",
      "Time taken to run 8000 episodes is : 5288.311891078949\n",
      "Saving Model 8000\n",
      "episode 8200, reward 1329.0, memory_length 2000, epsilon 0.016547413607963874 total_time 726\n",
      "Time taken to run 8200 episodes is : 5401.665091514587\n",
      "episode 8400, reward 1570.0, memory_length 2000, epsilon 0.014972344566090779 total_time 721\n",
      "Time taken to run 8400 episodes is : 5515.742382764816\n",
      "episode 8600, reward 1511.0, memory_length 2000, epsilon 0.013547198801984371 total_time 722\n",
      "Time taken to run 8600 episodes is : 5628.687572479248\n",
      "episode 8800, reward 1493.0, memory_length 2000, epsilon 0.012257705836942604 total_time 722\n",
      "Time taken to run 8800 episodes is : 5741.688732385635\n",
      "episode 9000, reward 1511.0, memory_length 2000, epsilon 0.011090953530777752 total_time 722\n",
      "Time taken to run 9000 episodes is : 5855.570164680481\n",
      "Saving Model 9000\n",
      "episode 9200, reward 1660.0, memory_length 2000, epsilon 0.010035258788079503 total_time 721\n",
      "Time taken to run 9200 episodes is : 5971.876221895218\n",
      "episode 9400, reward 1534.0, memory_length 2000, epsilon 0.009080050571329443 total_time 721\n",
      "Time taken to run 9400 episodes is : 6088.528373003006\n",
      "episode 9600, reward 1299.0, memory_length 2000, epsilon 0.00821576404943698 total_time 723\n",
      "Time taken to run 9600 episodes is : 6202.952353954315\n",
      "episode 9800, reward 1518.0, memory_length 2000, epsilon 0.0074337448217690226 total_time 726\n",
      "Time taken to run 9800 episodes is : 6333.212657928467\n",
      "Saving Model at the END 9999\n",
      "Time taken to run 10000 episodes is : 6445.440359354019\n"
     ]
    }
   ],
   "source": [
    "start_time = time.time()\n",
    "\n",
    "for episode in range(Episodes):\n",
    "\n",
    "    terminal = False\n",
    "    episode_reward = 0\n",
    "    track_reward = False\n",
    "\n",
    "    # reset at the start of each episode\n",
    "    #env = CabDriver()\n",
    "    action_space, state_space, curr_state = env.reset()\n",
    "    # Save the initial state so that reward can be tracked if initial state is [0,0,0]\n",
    "    initial_state = env.state_init\n",
    "\n",
    "\n",
    "    completed_hrs = 0  # Total time driver rode in this episode\n",
    "    while not terminal:\n",
    "        # 1. Get the possibl list of the ride requests:\n",
    "        possible_actions_index, actions = env.requests(curr_state)\n",
    "        \n",
    "        # 2. Pick epsilon-greedy action from possible actions for the current state:\n",
    "        curr_action = agent.get_action(curr_state, possible_actions_index)\n",
    "        \n",
    "        # 3. Evaluate reward , next state and the trip time it took:\n",
    "        next_state, reward, trip_hrs = env.next_state_func(curr_state, action_space[curr_action], Time_matrix)\n",
    "        \n",
    "        # 4. Total time driver Completed in this episode\n",
    "        completed_hrs += trip_hrs\n",
    "        if (completed_hrs > total_hrs):\n",
    "            terminal = True\n",
    "\n",
    "        # 5. Append the experience to the memory:\n",
    "        agent.append_sample(curr_state, curr_action, reward, next_state, terminal)\n",
    "        \n",
    "        # 6. Train the model :\n",
    "        agent.train_model()\n",
    "        \n",
    "        # 7. Keep a track of rewards, Q-values, loss\n",
    "        episode_reward += reward\n",
    "        state = next_state\n",
    "    \n",
    "    #Checking max_reward: (To check what the max reward that can be achieved using model) :\n",
    "    if episode_reward > max_reward:\n",
    "        max_reward = episode_reward\n",
    "    \n",
    "    # store total reward obtained in this episode and the save q-values of few states.\n",
    "    rewards_per_episode.append(episode_reward)\n",
    "    episodes.append(episode)\n",
    "    \n",
    "    agent.save_tracking_states()\n",
    "    \n",
    "\n",
    "    # epsilon decay\n",
    "    if agent.epsilon > agent.epsilon_min:\n",
    "        agent.epsilon *= agent.epsilon_decay\n",
    "    \n",
    "    \n",
    "    # every 200 episodes:\n",
    "    if ((episode ) % 200 == 0):\n",
    "        #agent.save_tracking_states(debug=True)\n",
    "        print(\"episode {0}, reward {1}, memory_length {2}, epsilon {3} total_time {4}\".format(episode,episode_reward,len(agent.memory),agent.epsilon, completed_hrs))\n",
    "        elapsed_time = time.time() - start_time\n",
    "        print(\"Time taken to run %s episodes is : %s\" %(str(episode),str(elapsed_time)))\n",
    "    \n",
    "    #Every 1000 episodes, save model , reward and state-action q-values:\n",
    "    if(episode % 1000 == 0):\n",
    "        print(\"Saving Model {}\".format(episode))\n",
    "        agent.save(name=\"model_weights_dqn\")\n",
    "        agent.save_obj(rewards_per_episode,name= \"rewards_tracked_cabdriver\")\n",
    "        agent.save_obj(States_track,name= \"states_tracked_cabdriver\")\n",
    "\n",
    "    \n",
    "elapsed_time = time.time() - start_time\n",
    "print(\"Saving Model at the END {}\".format(episode))\n",
    "agent.save(name=\"model_weights_dqn\")\n",
    "agent.save_obj(rewards_per_episode,name= \"rewards_tracked_cabdriver\")\n",
    "agent.save_obj(States_track,name= \"states_tracked_cabdriver\")\n",
    "print(\"Time taken to run %s episodes is : %s\" %(str(Episodes),str(elapsed_time)))\n"
   ]
  },
  {
   "cell_type": "code",
   "execution_count": 9,
   "metadata": {},
   "outputs": [
    {
     "name": "stdout",
     "output_type": "stream",
     "text": [
      "Maximum Reward that was obtained in a single day is :  1933.0\n"
     ]
    }
   ],
   "source": [
    "print(\"Maximum Reward that was obtained in a single day is : \" , max_reward)"
   ]
  },
  {
   "cell_type": "code",
   "execution_count": 10,
   "metadata": {},
   "outputs": [
    {
     "name": "stdout",
     "output_type": "stream",
     "text": [
      "[1511.0, 1359.0, 1174.0, 1443.0, 1471.0, 1295.0, 1434.0, 1474.0, 1394.0, 1527.0, 1498.0, 1439.0, 1664.0, 1518.0, 1491.0, 1583.0, 1514.0, 1745.0, 1561.0, 1532.0, 1660.0, 1470.0, 1537.0, 1709.0, 1677.0, 1461.0, 1692.0, 1466.0, 1375.0, 1543.0, 1573.0, 1343.0, 1511.0, 1387.0, 1692.0, 1582.0, 1388.0, 1505.0, 1385.0, 1525.0, 1534.0, 1592.0, 1596.0, 1521.0, 1668.0, 1723.0, 1391.0, 1465.0, 1538.0, 1275.0, 1416.0, 1497.0, 1508.0, 1632.0, 1574.0, 1538.0, 1608.0, 1536.0, 1570.0, 1602.0, 1299.0, 1337.0, 1506.0, 1453.0, 1597.0, 1596.0, 1443.0, 1634.0, 1303.0, 1672.0, 1577.0, 1601.0, 1737.0, 1413.0, 1624.0, 1579.0, 1465.0, 1528.0, 1487.0, 1585.0, 1518.0, 1604.0, 1543.0, 1488.0, 1601.0, 1316.0, 1492.0, 1493.0, 1496.0, 1734.0, 1367.0, 1447.0, 1586.0, 1437.0, 1482.0, 1536.0, 1672.0, 1588.0, 1471.0, 1784.0]\n"
     ]
    }
   ],
   "source": [
    "print(rewards_per_episode[-1000::10])"
   ]
  },
  {
   "cell_type": "markdown",
   "metadata": {},
   "source": [
    "### Tracking Convergence \n",
    "1. Through the reward for each episode\n",
    "2. Through the state-action q-values"
   ]
  },
  {
   "cell_type": "markdown",
   "metadata": {},
   "source": [
    "#### 1. Plotting the reward for each episode"
   ]
  },
  {
   "cell_type": "code",
   "execution_count": 11,
   "metadata": {},
   "outputs": [
    {
     "data": {
      "image/png": "[encoded data removed]",
      "text/plain": [
       "<Figure size 1152x432 with 1 Axes>"
      ]
     },
     "metadata": {
      "needs_background": "light"
     },
     "output_type": "display_data"
    }
   ],
   "source": [
    "plt.figure(0, figsize=(16,6))\n",
    "plt.plot(episodes, rewards_per_episode)\n",
    "plt.show()"
   ]
  },
  {
   "cell_type": "markdown",
   "metadata": {},
   "source": [
    "#### 2. Plotting q-values for states:"
   ]
  },
  {
   "cell_type": "code",
   "execution_count": 12,
   "metadata": {},
   "outputs": [
    {
     "data": {
      "text/plain": [
       "<function matplotlib.pyplot.show(*args, **kw)>"
      ]
     },
     "execution_count": 12,
     "metadata": {},
     "output_type": "execute_result"
    },
    {
     "data": {
      "image/png": "[encoded data removed]",
      "text/plain": [
       "<Figure size 1152x1152 with 4 Axes>"
      ]
     },
     "metadata": {
      "needs_background": "light"
     },
     "output_type": "display_data"
    }
   ],
   "source": [
    "plt.figure(0, figsize=(16,16))\n",
    "  \n",
    "x_axis = np.asarray(range(0, len(States_track[(0,0,0)][(1,0)])))\n",
    "plt.subplot(421)\n",
    "plt.plot(x_axis,np.asarray(States_track[(0,0,0)][(0,1)]))\n",
    "plt.show\n",
    "\n",
    "x_axis = np.asarray(range(0, len(States_track[(0,0,0)][(0,2)])))\n",
    "plt.subplot(422)\n",
    "plt.plot(x_axis,np.asarray(States_track[(0,0,0)][(0,2)]))\n",
    "plt.show\n",
    "\n",
    "x_axis = np.asarray(range(0, len(States_track[(0,0,0)][(0,3)])))\n",
    "plt.subplot(423)\n",
    "plt.plot(x_axis,np.asarray(States_track[(0,0,0)][(0,3)]))\n",
    "plt.show\n",
    "\n",
    "x_axis = np.asarray(range(0, len(States_track[(0,0,0)][(0,4)])))\n",
    "plt.subplot(424)\n",
    "plt.plot(x_axis,np.asarray(States_track[(0,0,0)][(0,4)]))\n",
    "plt.show"
   ]
  },
  {
   "cell_type": "markdown",
   "metadata": {},
   "source": [
    "#### Epsilon-decay sample function"
   ]
  },
  {
   "cell_type": "markdown",
   "metadata": {},
   "source": [
    "<div class=\"alert alert-block alert-info\">\n",
    "Try building a similar epsilon-decay function for your model.\n",
    "</div>"
   ]
  },
  {
   "cell_type": "code",
   "execution_count": 13,
   "metadata": {},
   "outputs": [],
   "source": [
    "time = np.arange(0,10000)\n",
    "epsilon = []\n",
    "for i in range(0,10000):\n",
    "    epsilon.append(0 + (1 - 0) * np.exp(-0.0009*i))"
   ]
  },
  {
   "cell_type": "code",
   "execution_count": 14,
   "metadata": {},
   "outputs": [
    {
     "data": {
      "image/png": "[encoded data removed]",
      "text/plain": [
       "<Figure size 432x288 with 1 Axes>"
      ]
     },
     "metadata": {
      "needs_background": "light"
     },
     "output_type": "display_data"
    }
   ],
   "source": [
    "plt.plot(time, epsilon)\n",
    "plt.show()"
   ]
  },
  {
   "cell_type": "markdown",
   "metadata": {},
   "source": [
    "### Testing the Agent for single Day:"
   ]
  },
  {
   "cell_type": "code",
   "execution_count": 15,
   "metadata": {},
   "outputs": [
    {
     "name": "stdout",
     "output_type": "stream",
     "text": [
      "Cab Driver started from state :  [2, 1, 0]\n",
      "TRIP1  -->Current state is  [2, 1, 0] and action taken is : [0, 2]\n",
      "       -->Reward for this Trip is : -2.0 and total reward accumulated is : -2.0 \n",
      "TRIP2  -->Current state is  [2, 1, 0] and action taken is : [0, 3]\n",
      "       -->Reward for this Trip is : 30.0 and total reward accumulated is : 28.0 \n",
      "TRIP3  -->Current state is  [2, 1, 0] and action taken is : [0, 3]\n",
      "       -->Reward for this Trip is : 30.0 and total reward accumulated is : 58.0 \n",
      "TRIP4  -->Current state is  [2, 1, 0] and action taken is : [2, 1]\n",
      "       -->Reward for this Trip is : 20.0 and total reward accumulated is : 78.0 \n",
      "TRIP5  -->Current state is  [2, 1, 0] and action taken is : [0, 3]\n",
      "       -->Reward for this Trip is : 30.0 and total reward accumulated is : 108.0 \n",
      "TRIP6  -->Current state is  [2, 1, 0] and action taken is : [2, 3]\n",
      "       -->Reward for this Trip is : 24.0 and total reward accumulated is : 132.0 \n",
      "TRIP7  -->Current state is  [2, 1, 0] and action taken is : [0, 3]\n",
      "       -->Reward for this Trip is : 30.0 and total reward accumulated is : 162.0 \n",
      "TRIP8  -->Current state is  [2, 1, 0] and action taken is : [0, 3]\n",
      "       -->Reward for this Trip is : 30.0 and total reward accumulated is : 192.0 \n",
      "TRIP9  -->Current state is  [2, 1, 0] and action taken is : [0, 3]\n",
      "       -->Reward for this Trip is : 30.0 and total reward accumulated is : 222.0 \n",
      "TRIP10  -->Current state is  [2, 1, 0] and action taken is : [0, 3]\n",
      "       -->Reward for this Trip is : 30.0 and total reward accumulated is : 252.0 \n",
      "TRIP11  -->Current state is  [2, 1, 0] and action taken is : [2, 1]\n",
      "       -->Reward for this Trip is : 20.0 and total reward accumulated is : 272.0 \n",
      "TRIP12  -->Current state is  [2, 1, 0] and action taken is : [0, 3]\n",
      "       -->Reward for this Trip is : 30.0 and total reward accumulated is : 302.0 \n",
      "TRIP13  -->Current state is  [2, 1, 0] and action taken is : [2, 3]\n",
      "       -->Reward for this Trip is : 24.0 and total reward accumulated is : 326.0 \n",
      "TRIP14  -->Current state is  [2, 1, 0] and action taken is : [0, 3]\n",
      "       -->Reward for this Trip is : 30.0 and total reward accumulated is : 356.0 \n",
      "TRIP15  -->Current state is  [2, 1, 0] and action taken is : [2, 1]\n",
      "       -->Reward for this Trip is : 20.0 and total reward accumulated is : 376.0 \n",
      "TRIP16  -->Current state is  [2, 1, 0] and action taken is : [0, 3]\n",
      "       -->Reward for this Trip is : 30.0 and total reward accumulated is : 406.0 \n",
      "TRIP17  -->Current state is  [2, 1, 0] and action taken is : [0, 3]\n",
      "       -->Reward for this Trip is : 30.0 and total reward accumulated is : 436.0 \n",
      "TRIP18  -->Current state is  [2, 1, 0] and action taken is : [0, 3]\n",
      "       -->Reward for this Trip is : 30.0 and total reward accumulated is : 466.0 \n",
      "TRIP19  -->Current state is  [2, 1, 0] and action taken is : [2, 3]\n",
      "       -->Reward for this Trip is : 24.0 and total reward accumulated is : 490.0 \n",
      "TRIP20  -->Current state is  [2, 1, 0] and action taken is : [2, 3]\n",
      "       -->Reward for this Trip is : 24.0 and total reward accumulated is : 514.0 \n",
      "TRIP21  -->Current state is  [2, 1, 0] and action taken is : [0, 3]\n",
      "       -->Reward for this Trip is : 30.0 and total reward accumulated is : 544.0 \n",
      "TRIP22  -->Current state is  [2, 1, 0] and action taken is : [2, 3]\n",
      "       -->Reward for this Trip is : 24.0 and total reward accumulated is : 568.0 \n",
      "TRIP23  -->Current state is  [2, 1, 0] and action taken is : [2, 1]\n",
      "       -->Reward for this Trip is : 20.0 and total reward accumulated is : 588.0 \n",
      "TRIP24  -->Current state is  [2, 1, 0] and action taken is : [0, 3]\n",
      "       -->Reward for this Trip is : 30.0 and total reward accumulated is : 618.0 \n",
      "TRIP25  -->Current state is  [2, 1, 0] and action taken is : [2, 3]\n",
      "       -->Reward for this Trip is : 24.0 and total reward accumulated is : 642.0 \n",
      "TRIP26  -->Current state is  [2, 1, 0] and action taken is : [0, 3]\n",
      "       -->Reward for this Trip is : 30.0 and total reward accumulated is : 672.0 \n",
      "TRIP27  -->Current state is  [2, 1, 0] and action taken is : [2, 3]\n",
      "       -->Reward for this Trip is : 24.0 and total reward accumulated is : 696.0 \n",
      "TRIP28  -->Current state is  [2, 1, 0] and action taken is : [2, 3]\n",
      "       -->Reward for this Trip is : 24.0 and total reward accumulated is : 720.0 \n",
      "TRIP29  -->Current state is  [2, 1, 0] and action taken is : [1, 2]\n",
      "       -->Reward for this Trip is : 15.0 and total reward accumulated is : 735.0 \n",
      "TRIP30  -->Current state is  [2, 1, 0] and action taken is : [2, 1]\n",
      "       -->Reward for this Trip is : 20.0 and total reward accumulated is : 755.0 \n",
      "TRIP31  -->Current state is  [2, 1, 0] and action taken is : [0, 3]\n",
      "       -->Reward for this Trip is : 30.0 and total reward accumulated is : 785.0 \n",
      "TRIP32  -->Current state is  [2, 1, 0] and action taken is : [0, 3]\n",
      "       -->Reward for this Trip is : 30.0 and total reward accumulated is : 815.0 \n",
      "TRIP33  -->Current state is  [2, 1, 0] and action taken is : [2, 1]\n",
      "       -->Reward for this Trip is : 20.0 and total reward accumulated is : 835.0 \n",
      "TRIP34  -->Current state is  [2, 1, 0] and action taken is : [0, 3]\n",
      "       -->Reward for this Trip is : 30.0 and total reward accumulated is : 865.0 \n",
      "TRIP35  -->Current state is  [2, 1, 0] and action taken is : [2, 3]\n",
      "       -->Reward for this Trip is : 24.0 and total reward accumulated is : 889.0 \n",
      "TRIP36  -->Current state is  [2, 1, 0] and action taken is : [2, 1]\n",
      "       -->Reward for this Trip is : 20.0 and total reward accumulated is : 909.0 \n",
      "TRIP37  -->Current state is  [2, 1, 0] and action taken is : [0, 3]\n",
      "       -->Reward for this Trip is : 30.0 and total reward accumulated is : 939.0 \n",
      "TRIP38  -->Current state is  [2, 1, 0] and action taken is : [2, 3]\n",
      "       -->Reward for this Trip is : 24.0 and total reward accumulated is : 963.0 \n",
      "TRIP39  -->Current state is  [2, 1, 0] and action taken is : [2, 3]\n",
      "       -->Reward for this Trip is : 24.0 and total reward accumulated is : 987.0 \n",
      "TRIP40  -->Current state is  [2, 1, 0] and action taken is : [1, 2]\n",
      "       -->Reward for this Trip is : 15.0 and total reward accumulated is : 1002.0 \n",
      "TRIP41  -->Current state is  [2, 1, 0] and action taken is : [4, 1]\n",
      "       -->Reward for this Trip is : 11.0 and total reward accumulated is : 1013.0 \n",
      "TRIP42  -->Current state is  [2, 1, 0] and action taken is : [0, 3]\n",
      "       -->Reward for this Trip is : 30.0 and total reward accumulated is : 1043.0 \n",
      "TRIP43  -->Current state is  [2, 1, 0] and action taken is : [2, 3]\n",
      "       -->Reward for this Trip is : 24.0 and total reward accumulated is : 1067.0 \n",
      "TRIP44  -->Current state is  [2, 1, 0] and action taken is : [0, 3]\n",
      "       -->Reward for this Trip is : 30.0 and total reward accumulated is : 1097.0 \n",
      "TRIP45  -->Current state is  [2, 1, 0] and action taken is : [0, 3]\n",
      "       -->Reward for this Trip is : 30.0 and total reward accumulated is : 1127.0 \n",
      "TRIP46  -->Current state is  [2, 1, 0] and action taken is : [0, 3]\n",
      "       -->Reward for this Trip is : 30.0 and total reward accumulated is : 1157.0 \n",
      "TRIP47  -->Current state is  [2, 1, 0] and action taken is : [0, 3]\n",
      "       -->Reward for this Trip is : 30.0 and total reward accumulated is : 1187.0 \n",
      "TRIP48  -->Current state is  [2, 1, 0] and action taken is : [2, 1]\n",
      "       -->Reward for this Trip is : 20.0 and total reward accumulated is : 1207.0 \n",
      "TRIP49  -->Current state is  [2, 1, 0] and action taken is : [2, 3]\n",
      "       -->Reward for this Trip is : 24.0 and total reward accumulated is : 1231.0 \n",
      "TRIP50  -->Current state is  [2, 1, 0] and action taken is : [1, 2]\n",
      "       -->Reward for this Trip is : 15.0 and total reward accumulated is : 1246.0 \n",
      "TRIP51  -->Current state is  [2, 1, 0] and action taken is : [2, 3]\n",
      "       -->Reward for this Trip is : 24.0 and total reward accumulated is : 1270.0 \n",
      "TRIP52  -->Current state is  [2, 1, 0] and action taken is : [0, 3]\n",
      "       -->Reward for this Trip is : 30.0 and total reward accumulated is : 1300.0 \n",
      "TRIP53  -->Current state is  [2, 1, 0] and action taken is : [2, 1]\n",
      "       -->Reward for this Trip is : 20.0 and total reward accumulated is : 1320.0 \n",
      "TRIP54  -->Current state is  [2, 1, 0] and action taken is : [2, 1]\n",
      "       -->Reward for this Trip is : 20.0 and total reward accumulated is : 1340.0 \n",
      "TRIP55  -->Current state is  [2, 1, 0] and action taken is : [2, 1]\n",
      "       -->Reward for this Trip is : 20.0 and total reward accumulated is : 1360.0 \n",
      "TRIP56  -->Current state is  [2, 1, 0] and action taken is : [2, 3]\n",
      "       -->Reward for this Trip is : 24.0 and total reward accumulated is : 1384.0 \n",
      "TRIP57  -->Current state is  [2, 1, 0] and action taken is : [1, 2]\n",
      "       -->Reward for this Trip is : 15.0 and total reward accumulated is : 1399.0 \n",
      "TRIP58  -->Current state is  [2, 1, 0] and action taken is : [2, 0]\n",
      "       -->Reward for this Trip is : 8.0 and total reward accumulated is : 1407.0 \n",
      "TRIP59  -->Current state is  [2, 1, 0] and action taken is : [0, 2]\n"
     ]
    },
    {
     "name": "stdout",
     "output_type": "stream",
     "text": [
      "       -->Reward for this Trip is : -2.0 and total reward accumulated is : 1405.0 \n",
      "TRIP60  -->Current state is  [2, 1, 0] and action taken is : [2, 3]\n",
      "       -->Reward for this Trip is : 24.0 and total reward accumulated is : 1429.0 \n",
      "TRIP61  -->Current state is  [2, 1, 0] and action taken is : [0, 3]\n",
      "       -->Reward for this Trip is : 30.0 and total reward accumulated is : 1459.0 \n",
      "TRIP62  -->Current state is  [2, 1, 0] and action taken is : [2, 3]\n",
      "       -->Reward for this Trip is : 24.0 and total reward accumulated is : 1483.0 \n",
      "TRIP63  -->Current state is  [2, 1, 0] and action taken is : [2, 1]\n",
      "       -->Reward for this Trip is : 20.0 and total reward accumulated is : 1503.0 \n",
      "TRIP64  -->Current state is  [2, 1, 0] and action taken is : [0, 3]\n",
      "       -->Reward for this Trip is : 30.0 and total reward accumulated is : 1533.0 \n",
      "TRIP65  -->Current state is  [2, 1, 0] and action taken is : [0, 3]\n",
      "       -->Reward for this Trip is : 30.0 and total reward accumulated is : 1563.0 \n",
      "TRIP66  -->Current state is  [2, 1, 0] and action taken is : [0, 3]\n",
      "       -->Reward for this Trip is : 30.0 and total reward accumulated is : 1593.0 \n",
      "TRIP67  -->Current state is  [2, 1, 0] and action taken is : [2, 1]\n",
      "       -->Reward for this Trip is : 20.0 and total reward accumulated is : 1613.0 \n",
      "TRIP68  -->Current state is  [2, 1, 0] and action taken is : [0, 3]\n",
      "       -->Reward for this Trip is : 30.0 and total reward accumulated is : 1643.0 \n",
      "TRIP69  -->Current state is  [2, 1, 0] and action taken is : [1, 2]\n",
      "       -->Reward for this Trip is : 15.0 and total reward accumulated is : 1658.0 \n",
      "TRIP70  -->Current state is  [2, 1, 0] and action taken is : [0, 3]\n",
      "       -->Reward for this Trip is : 30.0 and total reward accumulated is : 1688.0 \n",
      "TRIP71  -->Current state is  [2, 1, 0] and action taken is : [2, 3]\n",
      "       -->Reward for this Trip is : 24.0 and total reward accumulated is : 1712.0 \n",
      "TRIP72  -->Current state is  [2, 1, 0] and action taken is : [2, 1]\n",
      "       -->Reward for this Trip is : 20.0 and total reward accumulated is : 1732.0 \n",
      "TRIP73  -->Current state is  [2, 1, 0] and action taken is : [0, 3]\n",
      "       -->Reward for this Trip is : 30.0 and total reward accumulated is : 1762.0 \n",
      "TRIP74  -->Current state is  [2, 1, 0] and action taken is : [0, 3]\n",
      "       -->Reward for this Trip is : 30.0 and total reward accumulated is : 1792.0 \n",
      "TRIP75  -->Current state is  [2, 1, 0] and action taken is : [0, 3]\n",
      "       -->Reward for this Trip is : 30.0 and total reward accumulated is : 1822.0 \n",
      "TRIP76  -->Current state is  [2, 1, 0] and action taken is : [1, 0]\n",
      "       -->Reward for this Trip is : 11.0 and total reward accumulated is : 1833.0 \n",
      "TRIP77  -->Current state is  [2, 1, 0] and action taken is : [0, 0]\n",
      "       -->Reward for this Trip is : -5 and total reward accumulated is : 1828.0 \n",
      "TRIP78  -->Current state is  [2, 1, 0] and action taken is : [4, 1]\n",
      "       -->Reward for this Trip is : 11.0 and total reward accumulated is : 1839.0 \n",
      "TRIP79  -->Current state is  [2, 1, 0] and action taken is : [0, 3]\n",
      "       -->Reward for this Trip is : 30.0 and total reward accumulated is : 1869.0 \n",
      "TRIP80  -->Current state is  [2, 1, 0] and action taken is : [0, 2]\n",
      "       -->Reward for this Trip is : -2.0 and total reward accumulated is : 1867.0 \n",
      "TRIP81  -->Current state is  [2, 1, 0] and action taken is : [1, 2]\n",
      "       -->Reward for this Trip is : 15.0 and total reward accumulated is : 1882.0 \n"
     ]
    }
   ],
   "source": [
    "import time\n",
    "start_time = time.time()\n",
    "\n",
    "agent.epsilon=0.001\n",
    "terminal = False\n",
    "total_reward = 0\n",
    "track_reward = False\n",
    "\n",
    "# reset at the start of each episode\n",
    "#env = CabDriver()\n",
    "action_space, state_space, curr_state = env.reset()\n",
    "# Save the initial state so that reward can be tracked if initial state is [0,0,0]\n",
    "initial_state = env.state_init\n",
    "print(\"Cab Driver started from state : \" , curr_state)\n",
    "\n",
    "completed_hrs = 0  # Total time driver rode in this episode\n",
    "i = 1 \n",
    "while not terminal:\n",
    "    # 1. Get a list of the ride requests driver got.\n",
    "    possible_actions_index, actions = env.requests(state)\n",
    "    # 2. Pick epsilon-greedy action from possible actions for the current state.\n",
    "    curr_action = agent.get_action(state, possible_actions_index)\n",
    "    print(\"TRIP%s  -->Current state is  %s and action taken is : %s\" %(str(i),str(curr_state),str(action_space[curr_action])))\n",
    "    # 3. Evaluate your reward and next state\n",
    "    #reward, next_state, step_time = env.step(state, env.action_space[action], Time_matrix)\n",
    "    next_state, reward, trip_hrs = env.next_state_func(curr_state, action_space[curr_action], Time_matrix)\n",
    "    \n",
    "\n",
    "    # 4. Total time driver rode in this episode\n",
    "    completed_hrs += trip_hrs\n",
    "    if (completed_hrs > total_hrs):\n",
    "        terminal = True\n",
    "\n",
    "    # 5. Append the experience to the memory\n",
    "    agent.append_sample(curr_state, curr_action, reward, next_state, terminal)\n",
    "\n",
    "    # 6. Train the model by calling function agent.train_model\n",
    "    agent.train_model()\n",
    "\n",
    "    # 7. Keep a track of rewards, Q-values, loss\n",
    "    total_reward += reward\n",
    "    print(\"       -->Reward for this Trip is : %s and total reward accumulated is : %s \" %(str(reward),str(total_reward)))\n",
    "    state = next_state\n",
    "    i += 1\n"
   ]
  },
  {
   "cell_type": "code",
   "execution_count": 16,
   "metadata": {},
   "outputs": [
    {
     "name": "stdout",
     "output_type": "stream",
     "text": [
      "***************************************\n",
      "Total reward for the Day is :  1882.0\n",
      "Average reward for each Trip in a day is :  22.951219512195124\n",
      "***************************************\n"
     ]
    }
   ],
   "source": [
    "print(\"***************************************\")\n",
    "print(\"Total reward for the Day is : \" , total_reward)\n",
    "print(\"Average reward for each Trip in a day is : \" , total_reward/i)\n",
    "print(\"***************************************\")"
   ]
  },
  {
   "cell_type": "markdown",
   "metadata": {},
   "source": [
    "### Testing the States tracked from pkl file"
   ]
  },
  {
   "cell_type": "code",
   "execution_count": 17,
   "metadata": {},
   "outputs": [
    {
     "name": "stdout",
     "output_type": "stream",
     "text": [
      "File exist\n"
     ]
    }
   ],
   "source": [
    "import os\n",
    "if os.path.isfile('states_tracked_cabdriver.pkl'):\n",
    "    print(\"File exist\")\n",
    "    with open('states_tracked_cabdriver.pkl', 'rb') as handle:\n",
    "        States_track_test = pickle.load(handle)"
   ]
  },
  {
   "cell_type": "code",
   "execution_count": 18,
   "metadata": {},
   "outputs": [
    {
     "data": {
      "text/plain": [
       "<function matplotlib.pyplot.show(*args, **kw)>"
      ]
     },
     "execution_count": 18,
     "metadata": {},
     "output_type": "execute_result"
    },
    {
     "data": {
      "image/png": "[encoded data removed]",
      "text/plain": [
       "<Figure size 1152x1152 with 4 Axes>"
      ]
     },
     "metadata": {
      "needs_background": "light"
     },
     "output_type": "display_data"
    }
   ],
   "source": [
    "plt.figure(0, figsize=(16,16))\n",
    "  \n",
    "x_axis = np.asarray(range(0, len(States_track_test[(0,0,0)][(0,1)])))\n",
    "plt.subplot(421)\n",
    "plt.plot(x_axis,np.asarray(States_track_test[(0,0,0)][(0,1)]))\n",
    "plt.show\n",
    "\n",
    "x_axis = np.asarray(range(0, len(States_track_test[(0,0,0)][(0,2)])))\n",
    "plt.subplot(422)\n",
    "plt.plot(x_axis,np.asarray(States_track_test[(0,0,0)][(0,2)]))\n",
    "plt.show\n",
    "\n",
    "x_axis = np.asarray(range(0, len(States_track_test[(0,0,0)][(0,3)])))\n",
    "plt.subplot(423)\n",
    "plt.plot(x_axis,np.asarray(States_track_test[(0,0,0)][(0,3)]))\n",
    "plt.show\n",
    "\n",
    "x_axis = np.asarray(range(0, len(States_track_test[(0,0,0)][(0,4)])))\n",
    "plt.subplot(424)\n",
    "plt.plot(x_axis,np.asarray(States_track_test[(0,0,0)][(0,4)]))\n",
    "plt.show"
   ]
  },
  {
   "cell_type": "code",
   "execution_count": 19,
   "metadata": {},
   "outputs": [
    {
     "ename": "TypeError",
     "evalue": "save_tracking_states() got multiple values for argument 'debug'",
     "output_type": "error",
     "traceback": [
      "\u001b[1;31m---------------------------------------------------------------------------\u001b[0m",
      "\u001b[1;31mTypeError\u001b[0m                                 Traceback (most recent call last)",
      "\u001b[1;32m<ipython-input-19-c9c98ee76d76>\u001b[0m in \u001b[0;36m<module>\u001b[1;34m\u001b[0m\n\u001b[1;32m----> 1\u001b[1;33m \u001b[0magent\u001b[0m\u001b[1;33m.\u001b[0m\u001b[0msave_tracking_states\u001b[0m\u001b[1;33m(\u001b[0m\u001b[0menv\u001b[0m\u001b[1;33m,\u001b[0m\u001b[0mdebug\u001b[0m\u001b[1;33m=\u001b[0m\u001b[1;32mTrue\u001b[0m\u001b[1;33m)\u001b[0m\u001b[1;33m\u001b[0m\u001b[1;33m\u001b[0m\u001b[0m\n\u001b[0m",
      "\u001b[1;31mTypeError\u001b[0m: save_tracking_states() got multiple values for argument 'debug'"
     ]
    }
   ],
   "source": [
    "agent.save_tracking_states(env,debug=True)"
   ]
  },
  {
   "cell_type": "code",
   "execution_count": null,
   "metadata": {},
   "outputs": [],
   "source": []
  }
 ],
 "metadata": {
  "kernelspec": {
   "display_name": "Python 3",
   "language": "python",
   "name": "python3"
  },
  "language_info": {
   "codemirror_mode": {
    "name": "ipython",
    "version": 3
   },
   "file_extension": ".py",
   "mimetype": "text/x-python",
   "name": "python",
   "nbconvert_exporter": "python",
   "pygments_lexer": "ipython3",
   "version": "3.7.6"
  }
 },
 "nbformat": 4,
 "nbformat_minor": 2
}
